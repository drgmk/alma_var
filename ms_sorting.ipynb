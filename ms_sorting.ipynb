{
 "cells": [
  {
   "cell_type": "code",
   "execution_count": 1,
   "id": "d5232de4",
   "metadata": {},
   "outputs": [],
   "source": [
    "import numpy as np"
   ]
  },
  {
   "cell_type": "code",
   "execution_count": 2,
   "id": "e189a8f9",
   "metadata": {
    "scrolled": true
   },
   "outputs": [
    {
     "data": {
      "text/plain": [
       "dict_keys(['BeginTime', 'EndTime', 'IntegrationTime', 'field_0', 'field_10', 'field_11', 'field_2', 'field_3', 'field_4', 'field_5', 'field_6', 'field_7', 'field_8', 'field_9', 'nfields', 'numrecords', 'scan_10', 'scan_11', 'scan_12', 'scan_13', 'scan_14', 'scan_15', 'scan_16', 'scan_17', 'scan_18', 'scan_19', 'scan_2', 'scan_20', 'scan_21', 'scan_22', 'scan_23', 'scan_24', 'scan_25', 'scan_26', 'scan_27', 'scan_28', 'scan_29', 'scan_3', 'scan_30', 'scan_31', 'scan_32', 'scan_33', 'scan_5', 'scan_6', 'scan_8', 'scan_9', 'timeref'])"
      ]
     },
     "execution_count": 2,
     "metadata": {},
     "output_type": "execute_result"
    }
   ],
   "source": [
    "d = np.load('listobs.npy', allow_pickle=True)\n",
    "d = d.tolist()\n",
    "d.keys()"
   ]
  },
  {
   "cell_type": "code",
   "execution_count": 11,
   "id": "38de4c25",
   "metadata": {},
   "outputs": [
    {
     "data": {
      "text/plain": [
       "{'0': {'Chan1Freq': 224992187500.0,\n",
       "  'ChanWidth': -15625000.0,\n",
       "  'Frame': 'TOPO',\n",
       "  'NumChan': 128,\n",
       "  'NumCorr': 2,\n",
       "  'PolId': 0,\n",
       "  'RefFreq': 225000000000.0,\n",
       "  'SpectralWindowId': 0,\n",
       "  'TotalWidth': 2000000000.0},\n",
       " '1': {'Chan1Freq': 226992187500.0,\n",
       "  'ChanWidth': -15625000.0,\n",
       "  'Frame': 'TOPO',\n",
       "  'NumChan': 128,\n",
       "  'NumCorr': 2,\n",
       "  'PolId': 0,\n",
       "  'RefFreq': 227000000000.0,\n",
       "  'SpectralWindowId': 1,\n",
       "  'TotalWidth': 2000000000.0},\n",
       " '2': {'Chan1Freq': 239007812500.19998,\n",
       "  'ChanWidth': 15625000.0,\n",
       "  'Frame': 'TOPO',\n",
       "  'NumChan': 128,\n",
       "  'NumCorr': 2,\n",
       "  'PolId': 0,\n",
       "  'RefFreq': 239000000000.19998,\n",
       "  'SpectralWindowId': 2,\n",
       "  'TotalWidth': 2000000000.0},\n",
       " '3': {'Chan1Freq': 241007812500.00003,\n",
       "  'ChanWidth': 15625000.0,\n",
       "  'Frame': 'TOPO',\n",
       "  'NumChan': 128,\n",
       "  'NumCorr': 2,\n",
       "  'PolId': 0,\n",
       "  'RefFreq': 241000000000.00003,\n",
       "  'SpectralWindowId': 3,\n",
       "  'TotalWidth': 2000000000.0}}"
      ]
     },
     "execution_count": 11,
     "metadata": {},
     "output_type": "execute_result"
    }
   ],
   "source": [
    "spw = np.load('spw.npy', allow_pickle=True)\n",
    "spw = spw.tolist()\n",
    "spw"
   ]
  },
  {
   "cell_type": "code",
   "execution_count": 3,
   "id": "ca610abc",
   "metadata": {
    "scrolled": true
   },
   "outputs": [
    {
     "name": "stdout",
     "output_type": "stream",
     "text": [
      "BeginTime 57836.27534833333\n",
      "EndTime 57836.340592222215\n",
      "IntegrationTime 5637.071999549866\n",
      "field_0 {'code': 'none', 'direction': {'m0': {'unit': 'rad', 'value': -2.4960900473892007}, 'm1': {'unit': 'rad', 'value': -0.7348778531729555}, 'refer': 'ICRS', 'type': 'direction'}, 'name': 'J1427-4206'}\n",
      "field_10 {'code': 'none', 'direction': {'m0': {'unit': 'rad', 'value': -2.489016620655864}, 'm1': {'unit': 'rad', 'value': -1.0939021146139276}, 'refer': 'ICRS', 'type': 'direction'}, 'name': 'Proxima_Centauri'}\n",
      "field_11 {'code': 'none', 'direction': {'m0': {'unit': 'rad', 'value': -2.489016621954973}, 'm1': {'unit': 'rad', 'value': -1.093902114660744}, 'refer': 'ICRS', 'type': 'direction'}, 'name': 'Proxima_Centauri'}\n",
      "field_2 {'code': 'none', 'direction': {'m0': {'unit': 'rad', 'value': -2.8137150802409856}, 'm1': {'unit': 'rad', 'value': -0.10892980047730072}, 'refer': 'ICRS', 'type': 'direction'}, 'name': 'Callisto'}\n",
      "field_3 {'code': 'none', 'direction': {'m0': {'unit': 'rad', 'value': -2.5092338756761023}, 'm1': {'unit': 'rad', 'value': -1.189141758803815}, 'refer': 'ICRS', 'type': 'direction'}, 'name': 'J1424-6807'}\n",
      "field_4 {'code': 'none', 'direction': {'m0': {'unit': 'rad', 'value': -2.4890166128595923}, 'm1': {'unit': 'rad', 'value': -1.0939021143323595}, 'refer': 'ICRS', 'type': 'direction'}, 'name': 'Proxima_Centauri'}\n",
      "field_5 {'code': 'none', 'direction': {'m0': {'unit': 'rad', 'value': -2.489016614156423}, 'm1': {'unit': 'rad', 'value': -1.0939021143792678}, 'refer': 'ICRS', 'type': 'direction'}, 'name': 'Proxima_Centauri'}\n",
      "field_6 {'code': 'none', 'direction': {'m0': {'unit': 'rad', 'value': -2.4890166154573548}, 'm1': {'unit': 'rad', 'value': -1.0939021144262957}, 'refer': 'ICRS', 'type': 'direction'}, 'name': 'Proxima_Centauri'}\n",
      "field_7 {'code': 'none', 'direction': {'m0': {'unit': 'rad', 'value': -2.489016616754726}, 'm1': {'unit': 'rad', 'value': -1.0939021144731653}, 'refer': 'ICRS', 'type': 'direction'}, 'name': 'Proxima_Centauri'}\n",
      "field_8 {'code': 'none', 'direction': {'m0': {'unit': 'rad', 'value': -2.4890166180608855}, 'm1': {'unit': 'rad', 'value': -1.0939021145203243}, 'refer': 'ICRS', 'type': 'direction'}, 'name': 'Proxima_Centauri'}\n",
      "field_9 {'code': 'none', 'direction': {'m0': {'unit': 'rad', 'value': -2.4890166193568795}, 'm1': {'unit': 'rad', 'value': -1.0939021145670866}, 'refer': 'ICRS', 'type': 'direction'}, 'name': 'Proxima_Centauri'}\n",
      "nfields 11\n",
      "numrecords 943800\n",
      "scan_10 {'0': {'BeginTime': 57836.29630166666, 'EndTime': 57836.29654833333, 'FieldId': 4, 'FieldName': 'Proxima_Centauri', 'IntegrationTime': 0.5759999999999973, 'SpwIds': array([0, 1, 2, 3]), 'StateId': 10, 'nRow': 1200, 'scanId': 10}}\n",
      "scan_11 {'0': {'BeginTime': 57836.29669388889, 'EndTime': 57836.30124444444, 'FieldId': 4, 'FieldName': 'Proxima_Centauri', 'IntegrationTime': 1.0080000000000136, 'SpwIds': array([0, 1, 2, 3]), 'StateId': 17, 'nRow': 85800, 'scanId': 11}}\n",
      "scan_12 {'0': {'BeginTime': 57836.301427777784, 'EndTime': 57836.302127777766, 'FieldId': 3, 'FieldName': 'J1424-6807', 'IntegrationTime': 1.0080000000000124, 'SpwIds': array([0, 1, 2, 3]), 'StateId': 16, 'nRow': 13200, 'scanId': 12}}\n",
      "scan_13 {'0': {'BeginTime': 57836.30233388889, 'EndTime': 57836.306884444435, 'FieldId': 5, 'FieldName': 'Proxima_Centauri', 'IntegrationTime': 1.0080000000000144, 'SpwIds': array([0, 1, 2, 3]), 'StateId': 17, 'nRow': 85800, 'scanId': 13}}\n",
      "scan_14 {'0': {'BeginTime': 57836.30709, 'EndTime': 57836.30733666666, 'FieldId': 3, 'FieldName': 'J1424-6807', 'IntegrationTime': 0.576000000000009, 'SpwIds': array([0, 1, 2, 3]), 'StateId': 10, 'nRow': 1200, 'scanId': 14}}\n",
      "scan_15 {'0': {'BeginTime': 57836.30748277778, 'EndTime': 57836.30818277777, 'FieldId': 3, 'FieldName': 'J1424-6807', 'IntegrationTime': 1.0080000000000033, 'SpwIds': array([0, 1, 2, 3]), 'StateId': 16, 'nRow': 13200, 'scanId': 15}}\n",
      "scan_16 {'0': {'BeginTime': 57836.30838444444, 'EndTime': 57836.30863111111, 'FieldId': 6, 'FieldName': 'Proxima_Centauri', 'IntegrationTime': 0.576000000000004, 'SpwIds': array([0, 1, 2, 3]), 'StateId': 10, 'nRow': 1200, 'scanId': 16}}\n",
      "scan_17 {'0': {'BeginTime': 57836.308785555564, 'EndTime': 57836.31333611112, 'FieldId': 6, 'FieldName': 'Proxima_Centauri', 'IntegrationTime': 1.0079999999999965, 'SpwIds': array([0, 1, 2, 3]), 'StateId': 17, 'nRow': 85800, 'scanId': 17}}\n",
      "scan_18 {'0': {'BeginTime': 57836.313518333336, 'EndTime': 57836.31421833334, 'FieldId': 3, 'FieldName': 'J1424-6807', 'IntegrationTime': 1.0079999999999951, 'SpwIds': array([0, 1, 2, 3]), 'StateId': 16, 'nRow': 13200, 'scanId': 18}}\n",
      "scan_19 {'0': {'BeginTime': 57836.3144188889, 'EndTime': 57836.318969444445, 'FieldId': 7, 'FieldName': 'Proxima_Centauri', 'IntegrationTime': 1.0079999999999962, 'SpwIds': array([0, 1, 2, 3]), 'StateId': 17, 'nRow': 85800, 'scanId': 19}}\n",
      "scan_2 {'0': {'BeginTime': 57836.27534833333, 'EndTime': 57836.275595, 'FieldId': 0, 'FieldName': 'J1427-4206', 'IntegrationTime': 0.5760000000000093, 'SpwIds': array([0, 1, 2, 3]), 'StateId': 10, 'nRow': 1200, 'scanId': 2}}\n",
      "scan_20 {'0': {'BeginTime': 57836.319168333335, 'EndTime': 57836.31941499999, 'FieldId': 3, 'FieldName': 'J1424-6807', 'IntegrationTime': 0.5759999999999953, 'SpwIds': array([0, 1, 2, 3]), 'StateId': 10, 'nRow': 1200, 'scanId': 20}}\n",
      "scan_21 {'0': {'BeginTime': 57836.31957388889, 'EndTime': 57836.320273888894, 'FieldId': 3, 'FieldName': 'J1424-6807', 'IntegrationTime': 1.0080000000000013, 'SpwIds': array([0, 1, 2, 3]), 'StateId': 16, 'nRow': 13200, 'scanId': 21}}\n",
      "scan_22 {'0': {'BeginTime': 57836.32049388889, 'EndTime': 57836.32074055556, 'FieldId': 8, 'FieldName': 'Proxima_Centauri', 'IntegrationTime': 0.5759999999999977, 'SpwIds': array([0, 1, 2, 3]), 'StateId': 10, 'nRow': 1200, 'scanId': 22}}\n",
      "scan_23 {'0': {'BeginTime': 57836.32089555556, 'EndTime': 57836.32544611111, 'FieldId': 8, 'FieldName': 'Proxima_Centauri', 'IntegrationTime': 1.0080000000000133, 'SpwIds': array([0, 1, 2, 3]), 'StateId': 17, 'nRow': 85800, 'scanId': 23}}\n",
      "scan_24 {'0': {'BeginTime': 57836.32563055555, 'EndTime': 57836.32633055556, 'FieldId': 3, 'FieldName': 'J1424-6807', 'IntegrationTime': 1.0080000000000116, 'SpwIds': array([0, 1, 2, 3]), 'StateId': 16, 'nRow': 13200, 'scanId': 24}}\n",
      "scan_25 {'0': {'BeginTime': 57836.32652111112, 'EndTime': 57836.33107166667, 'FieldId': 9, 'FieldName': 'Proxima_Centauri', 'IntegrationTime': 1.008000000000013, 'SpwIds': array([0, 1, 2, 3]), 'StateId': 17, 'nRow': 85800, 'scanId': 25}}\n",
      "scan_26 {'0': {'BeginTime': 57836.33125833334, 'EndTime': 57836.33150500001, 'FieldId': 3, 'FieldName': 'J1424-6807', 'IntegrationTime': 0.5760000000000086, 'SpwIds': array([0, 1, 2, 3]), 'StateId': 10, 'nRow': 1200, 'scanId': 26}}\n",
      "scan_27 {'0': {'BeginTime': 57836.3316588889, 'EndTime': 57836.33235888888, 'FieldId': 3, 'FieldName': 'J1424-6807', 'IntegrationTime': 1.0080000000000018, 'SpwIds': array([0, 1, 2, 3]), 'StateId': 16, 'nRow': 13200, 'scanId': 27}}\n",
      "scan_28 {'0': {'BeginTime': 57836.33256222222, 'EndTime': 57836.33280888889, 'FieldId': 10, 'FieldName': 'Proxima_Centauri', 'IntegrationTime': 0.5760000000000033, 'SpwIds': array([0, 1, 2, 3]), 'StateId': 10, 'nRow': 1200, 'scanId': 28}}\n",
      "scan_29 {'0': {'BeginTime': 57836.33296444446, 'EndTime': 57836.33751500001, 'FieldId': 10, 'FieldName': 'Proxima_Centauri', 'IntegrationTime': 1.0079999999999982, 'SpwIds': array([0, 1, 2, 3]), 'StateId': 17, 'nRow': 85800, 'scanId': 29}}\n",
      "scan_3 {'0': {'BeginTime': 57836.27598388888, 'EndTime': 57836.282984444435, 'FieldId': 0, 'FieldName': 'J1427-4206', 'IntegrationTime': 1.0080000000000058, 'SpwIds': array([0, 1, 2, 3]), 'StateId': 13, 'nRow': 132000, 'scanId': 3}}\n",
      "scan_30 {'0': {'BeginTime': 57836.33770444445, 'EndTime': 57836.33840444443, 'FieldId': 3, 'FieldName': 'J1424-6807', 'IntegrationTime': 1.007999999999996, 'SpwIds': array([0, 1, 2, 3]), 'StateId': 16, 'nRow': 13200, 'scanId': 30}}\n",
      "scan_31 {'0': {'BeginTime': 57836.338603333345, 'EndTime': 57836.33930333333, 'FieldId': 11, 'FieldName': 'Proxima_Centauri', 'IntegrationTime': 1.0079999999999956, 'SpwIds': array([0, 1, 2, 3]), 'StateId': 17, 'nRow': 13200, 'scanId': 31}}\n",
      "scan_32 {'0': {'BeginTime': 57836.339493888896, 'EndTime': 57836.33974055556, 'FieldId': 3, 'FieldName': 'J1424-6807', 'IntegrationTime': 0.5759999999999954, 'SpwIds': array([0, 1, 2, 3]), 'StateId': 10, 'nRow': 1200, 'scanId': 32}}\n",
      "scan_33 {'0': {'BeginTime': 57836.33989222223, 'EndTime': 57836.340592222215, 'FieldId': 3, 'FieldName': 'J1424-6807', 'IntegrationTime': 1.0079999999999996, 'SpwIds': array([0, 1, 2, 3]), 'StateId': 16, 'nRow': 13200, 'scanId': 33}}\n",
      "scan_5 {'0': {'BeginTime': 57836.28715222222, 'EndTime': 57836.28739888889, 'FieldId': 2, 'FieldName': 'Callisto', 'IntegrationTime': 0.5760000000000051, 'SpwIds': array([0, 1, 2, 3]), 'StateId': 10, 'nRow': 1200, 'scanId': 5}}\n",
      "scan_6 {'0': {'BeginTime': 57836.28755055556, 'EndTime': 57836.29105055556, 'FieldId': 2, 'FieldName': 'Callisto', 'IntegrationTime': 1.007999999999994, 'SpwIds': array([0, 1, 2, 3]), 'StateId': 15, 'nRow': 66000, 'scanId': 6}}\n",
      "scan_8 {'0': {'BeginTime': 57836.295001666665, 'EndTime': 57836.295248333336, 'FieldId': 3, 'FieldName': 'J1424-6807', 'IntegrationTime': 0.5759999999999961, 'SpwIds': array([0, 1, 2, 3]), 'StateId': 10, 'nRow': 1200, 'scanId': 8}}\n",
      "scan_9 {'0': {'BeginTime': 57836.29540222223, 'EndTime': 57836.296102222215, 'FieldId': 3, 'FieldName': 'J1424-6807', 'IntegrationTime': 1.0080000000000024, 'SpwIds': array([0, 1, 2, 3]), 'StateId': 16, 'nRow': 13200, 'scanId': 9}}\n",
      "timeref UTC\n"
     ]
    }
   ],
   "source": [
    "for k in d.keys():\n",
    "    print(k, d[k])"
   ]
  },
  {
   "cell_type": "code",
   "execution_count": 14,
   "id": "a09d1a4c",
   "metadata": {},
   "outputs": [],
   "source": [
    "def sortkeys(ls, s):\n",
    "    m = np.array([], dtype=int)\n",
    "    for l in ls:\n",
    "        m = np.append(m, int(l.replace(s,'')))\n",
    "    srt = np.argsort(m)\n",
    "    return np.array(ls)[srt].tolist()\n",
    "\n",
    "def getkeys(d, s):\n",
    "    l = []\n",
    "    for k in d.keys(): \n",
    "        if s in k:\n",
    "            l.append(k)\n",
    "    return sortkeys(l, s=s)\n",
    "    \n",
    "def getnames(d, n, f):\n",
    "    ns = []\n",
    "    for f in getkeys(d, f):\n",
    "        ns.append(d[f][n])\n",
    "    return np.unique(ns).tolist()"
   ]
  },
  {
   "cell_type": "code",
   "execution_count": 15,
   "id": "acba63bb",
   "metadata": {},
   "outputs": [
    {
     "name": "stdout",
     "output_type": "stream",
     "text": [
      "['field_0', 'field_2', 'field_3', 'field_4', 'field_5', 'field_6', 'field_7', 'field_8', 'field_9', 'field_10', 'field_11']\n",
      "['scan_2', 'scan_3', 'scan_5', 'scan_6', 'scan_8', 'scan_9', 'scan_10', 'scan_11', 'scan_12', 'scan_13', 'scan_14', 'scan_15', 'scan_16', 'scan_17', 'scan_18', 'scan_19', 'scan_20', 'scan_21', 'scan_22', 'scan_23', 'scan_24', 'scan_25', 'scan_26', 'scan_27', 'scan_28', 'scan_29', 'scan_30', 'scan_31', 'scan_32', 'scan_33']\n",
      "['Callisto', 'J1424-6807', 'J1427-4206', 'Proxima_Centauri']\n"
     ]
    }
   ],
   "source": [
    "fields = getkeys(d, 'field_')\n",
    "print(fields)\n",
    "scans = getkeys(d, 'scan_')\n",
    "print(scans)\n",
    "names = getnames(d, 'name', 'field_')\n",
    "print(names)"
   ]
  },
  {
   "cell_type": "code",
   "execution_count": 23,
   "id": "8aa7e24e",
   "metadata": {},
   "outputs": [
    {
     "name": "stdout",
     "output_type": "stream",
     "text": [
      "0,1,2,3 [128, 128, 128, 128]\n"
     ]
    }
   ],
   "source": [
    "spw_list = []\n",
    "avg_list = []\n",
    "for k in spw.keys():\n",
    "    spw_list.append( spw[k]['SpectralWindowId'] )\n",
    "    avg_list.append( spw[k]['NumChan'])\n",
    "    \n",
    "print(','.join([str(s) for s in spw_list]), avg_list)"
   ]
  },
  {
   "cell_type": "code",
   "execution_count": null,
   "id": "865d6550",
   "metadata": {},
   "outputs": [],
   "source": []
  }
 ],
 "metadata": {
  "kernelspec": {
   "display_name": "Python 3 (ipykernel)",
   "language": "python",
   "name": "python3"
  },
  "language_info": {
   "codemirror_mode": {
    "name": "ipython",
    "version": 3
   },
   "file_extension": ".py",
   "mimetype": "text/x-python",
   "name": "python",
   "nbconvert_exporter": "python",
   "pygments_lexer": "ipython3",
   "version": "3.10.8"
  }
 },
 "nbformat": 4,
 "nbformat_minor": 5
}
